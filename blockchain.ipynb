{
 "cells": [
  {
   "cell_type": "code",
   "execution_count": 1,
   "metadata": {},
   "outputs": [],
   "source": [
    "import hashlib as hasher\n",
    "\n",
    "class Block:\n",
    "    def __init__(self, index, timestamp, data, previous_hash):\n",
    "        self.index = index\n",
    "        self.timestamp = timestamp\n",
    "        self.data = data\n",
    "        self.previous_hash = previous_hash\n",
    "        self.hash = self.hash_block()\n",
    "\n",
    "    def hash_block(self):\n",
    "        \"\"\"\n",
    "        generates a cryptographic hash of the block’s index, timestamp, data, and the hash of the previous block’s hash.\n",
    "        hash_block => '18627f84562249c397955a1bbde617992fea2180afe0e4645ea131df12051a20'\n",
    "        \"\"\"\n",
    "        sha = hasher.sha256()\n",
    "        sha.update((str(self.index) +\n",
    "                   str(self.timestamp) +\n",
    "                   str(self.data) +\n",
    "                   str(self.previous_hash)).encode('utf-8'))\n",
    "        return sha.hexdigest()"
   ]
  },
  {
   "cell_type": "code",
   "execution_count": 2,
   "metadata": {},
   "outputs": [],
   "source": [
    "# 一つ目のブロック生成\n",
    "import datetime as date\n",
    "\n",
    "def create_genesis_block():\n",
    "    \"\"\"\n",
    "    manually creates a first block of a blockchain with index of 0 and\n",
    "    arbitrary previous hash.\n",
    "    first_block = create_genesis_block()\n",
    "    first_block\n",
    "    \"\"\"\n",
    "    return Block(0, date.datetime.now(), \"Genesis Block\", \"0\")"
   ]
  },
  {
   "cell_type": "code",
   "execution_count": 3,
   "metadata": {},
   "outputs": [],
   "source": [
    "# n>=2以降のブロック生成\n",
    "import datetime as date\n",
    "\n",
    "def next_block(last_block):\n",
    "    this_index = last_block.index + 1\n",
    "    this_timestamp = date.datetime.now()\n",
    "    this_data = \"Hey! I'm block \" + str(this_index)\n",
    "    this_hash = last_block.hash\n",
    "    return Block(this_index, this_timestamp, this_data, this_hash)"
   ]
  },
  {
   "cell_type": "code",
   "execution_count": 4,
   "metadata": {},
   "outputs": [
    {
     "name": "stdout",
     "output_type": "stream",
     "text": [
      "Block 1 has been added to the blockchain!\n",
      "Hash: bd64dbf2fcbd12ae13c7b77da58a7d3613bb644c2997e2cbc9002b7c607b00b5\n",
      "\n",
      "Block 2 has been added to the blockchain!\n",
      "Hash: 62ecbaa44061ef226e86c3208d77d13eab6b1edd2712a704a2a457eefbc4c58b\n",
      "\n",
      "Block 3 has been added to the blockchain!\n",
      "Hash: 997d889c244298dc0fa18a8fa17e8a9f5ff34028d095a936ef61fc4f04fc7888\n",
      "\n",
      "Block 4 has been added to the blockchain!\n",
      "Hash: d1ff2bb5bbb3d2f5465edb5a594bfea5300ca279b01320b52b0a486a908e7edd\n",
      "\n",
      "Block 5 has been added to the blockchain!\n",
      "Hash: 092fb66d20d74cf9379def21c043fa8503d801e6caca625dc3bc7d5904eb7597\n",
      "\n",
      "Block 6 has been added to the blockchain!\n",
      "Hash: eeba2e8b4ddc05014d8ba1e936db7e607fd9d4417430dd66d1e0c6bcacadada1\n",
      "\n",
      "Block 7 has been added to the blockchain!\n",
      "Hash: a82a5c96626f7704dc1429520645792fd6bd3d6352fcd58caf146bb81a6ca3f5\n",
      "\n",
      "Block 8 has been added to the blockchain!\n",
      "Hash: 7747ac74bc35621dcc622c4516373c49910eb3fc649cde97b78e68655f2987dd\n",
      "\n",
      "Block 9 has been added to the blockchain!\n",
      "Hash: 0190b767fce14329fb9b7898fcb99fea09be6f595278d65f1639c03c57b080cb\n",
      "\n",
      "Block 10 has been added to the blockchain!\n",
      "Hash: ec3abf2076a4b7d62c0598e1d2a32cd9ac978ef4215e5c2fc84a6204870ea9ee\n",
      "\n",
      "Block 11 has been added to the blockchain!\n",
      "Hash: 30da4bf7071d6a9e3780ba64d98d47d94612c762ef0f0d69781ee7ae284b5134\n",
      "\n",
      "Block 12 has been added to the blockchain!\n",
      "Hash: 9fab7715bad9a7dd57e42f8c35d5b69678849360c63a1255c5c626c7df5e5866\n",
      "\n",
      "Block 13 has been added to the blockchain!\n",
      "Hash: e54e2db837f704dd8e532366776d0f2f0da3fcbf94dafeac3437de45407fb8de\n",
      "\n",
      "Block 14 has been added to the blockchain!\n",
      "Hash: a02bc032aa527ad809e30bd9d04115f96bac9b6dc1f5792bca151cd0d212f41c\n",
      "\n",
      "Block 15 has been added to the blockchain!\n",
      "Hash: a9abb062b1df58e7ce5be043af218e4249710cbd3d00bdac7b8aeaf7c3a47a3d\n",
      "\n",
      "Block 16 has been added to the blockchain!\n",
      "Hash: d25811fe6fce4c16b6e9537512ccc12f5069dd7caab1b136aa46a98f17606b97\n",
      "\n",
      "Block 17 has been added to the blockchain!\n",
      "Hash: f3faff992a9dc6d1d9a23fb80c1f0d5c62452ae682a62f4ef072a8a2f5d04d12\n",
      "\n",
      "Block 18 has been added to the blockchain!\n",
      "Hash: 3d11a71abc3ca29ad826981f6af63de5c8e5bded95db66a5599be75d9d710750\n",
      "\n",
      "Block 19 has been added to the blockchain!\n",
      "Hash: 9a59fa7d0aae5ff0369e7a015f58cd2238fad60c84644133b6ae8ae4bb43aeac\n",
      "\n",
      "Block 20 has been added to the blockchain!\n",
      "Hash: 1323bb6038a1b396c4e9407f61b0263a87a4029250e68f9b60bf7a69f4233767\n",
      "\n"
     ]
    }
   ],
   "source": [
    "# ブロックチェーンの生成\n",
    "blockchain = [create_genesis_block()]\n",
    "previous_block = blockchain[0]\n",
    "\n",
    "num_of_blocks_to_add = 20\n",
    "\n",
    "for i in range(0, num_of_blocks_to_add):\n",
    "    blocks_to_add = next_block(previous_block)\n",
    "    blockchain.append(blocks_to_add)\n",
    "    previous_block = blocks_to_add\n",
    "    print(\"Block {} has been added to the blockchain!\".format(blocks_to_add.index))\n",
    "    print(\"Hash: {}\\n\".format(blocks_to_add.hash))"
   ]
  }
 ],
 "metadata": {
  "kernelspec": {
   "display_name": "Python 3",
   "language": "python",
   "name": "python3"
  },
  "language_info": {
   "codemirror_mode": {
    "name": "ipython",
    "version": 3
   },
   "file_extension": ".py",
   "mimetype": "text/x-python",
   "name": "python",
   "nbconvert_exporter": "python",
   "pygments_lexer": "ipython3",
   "version": "3.7.1"
  }
 },
 "nbformat": 4,
 "nbformat_minor": 2
}
